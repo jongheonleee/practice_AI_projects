{
 "cells": [
  {
   "cell_type": "markdown",
   "id": "1a4f7f01",
   "metadata": {},
   "source": [
    "# 6. Quiz"
   ]
  },
  {
   "cell_type": "markdown",
   "id": "df3daaec",
   "metadata": {},
   "source": [
    "## 어느 결혼식장에서 피로연의 식수 인원을 올바르게 예측하지 못하여 버려지는 음식으로 고민이 많다고 합니다. 현재까지 진행된 결혼식에 대한 결혼식 참석 인원과 그 중에서 식사를 하는 인원의 데이터가 제공될 때, 아래 각 문항에 대한 코드를 작성하시오."
   ]
  },
  {
   "cell_type": "markdown",
   "id": "40f9a0bb",
   "metadata": {},
   "source": [
    "주의) 사전 작업으로 아래 코드 셀을 먼저 실행하시오"
   ]
  },
  {
   "cell_type": "code",
   "execution_count": 48,
   "id": "ca571038",
   "metadata": {},
   "outputs": [],
   "source": [
    "import numpy as np\n",
    "import matplotlib.pyplot as plt\n",
    "import pandas as pd"
   ]
  },
  {
   "cell_type": "markdown",
   "id": "91bcd3cd",
   "metadata": {},
   "source": [
    "## 1) QuizData.csv 파일로부터 데이터를 읽어와서 결혼식 참석 인원(total), 식수 인원(reception)을 각각의 변수로 저장하시오."
   ]
  },
  {
   "cell_type": "code",
   "execution_count": 53,
   "id": "59d4f7b0",
   "metadata": {},
   "outputs": [
    {
     "data": {
      "text/html": [
       "<div>\n",
       "<style scoped>\n",
       "    .dataframe tbody tr th:only-of-type {\n",
       "        vertical-align: middle;\n",
       "    }\n",
       "\n",
       "    .dataframe tbody tr th {\n",
       "        vertical-align: top;\n",
       "    }\n",
       "\n",
       "    .dataframe thead th {\n",
       "        text-align: right;\n",
       "    }\n",
       "</style>\n",
       "<table border=\"1\" class=\"dataframe\">\n",
       "  <thead>\n",
       "    <tr style=\"text-align: right;\">\n",
       "      <th></th>\n",
       "      <th>total</th>\n",
       "      <th>reception</th>\n",
       "    </tr>\n",
       "  </thead>\n",
       "  <tbody>\n",
       "    <tr>\n",
       "      <th>0</th>\n",
       "      <td>118</td>\n",
       "      <td>62</td>\n",
       "    </tr>\n",
       "    <tr>\n",
       "      <th>1</th>\n",
       "      <td>253</td>\n",
       "      <td>148</td>\n",
       "    </tr>\n",
       "    <tr>\n",
       "      <th>2</th>\n",
       "      <td>320</td>\n",
       "      <td>201</td>\n",
       "    </tr>\n",
       "    <tr>\n",
       "      <th>3</th>\n",
       "      <td>94</td>\n",
       "      <td>80</td>\n",
       "    </tr>\n",
       "    <tr>\n",
       "      <th>4</th>\n",
       "      <td>155</td>\n",
       "      <td>92</td>\n",
       "    </tr>\n",
       "  </tbody>\n",
       "</table>\n",
       "</div>"
      ],
      "text/plain": [
       "   total  reception\n",
       "0    118         62\n",
       "1    253        148\n",
       "2    320        201\n",
       "3     94         80\n",
       "4    155         92"
      ]
     },
     "execution_count": 53,
     "metadata": {},
     "output_type": "execute_result"
    }
   ],
   "source": [
    "Data = pd.read_csv('QuizData.csv')\n",
    "Data[:5]"
   ]
  },
  {
   "cell_type": "code",
   "execution_count": 68,
   "id": "df8c0750",
   "metadata": {},
   "outputs": [],
   "source": [
    "'''\n",
    "X: total\n",
    "y: reception\n",
    "'''\n",
    "\n",
    "X, y = Data.iloc[:, :-1].values, Data.iloc[:, -1].values"
   ]
  },
  {
   "cell_type": "code",
   "execution_count": 69,
   "id": "ec664659",
   "metadata": {},
   "outputs": [
    {
     "data": {
      "text/plain": [
       "(array([[118],\n",
       "        [253],\n",
       "        [320],\n",
       "        [ 94],\n",
       "        [155]]),\n",
       " array([ 62, 148, 201,  80,  92]))"
      ]
     },
     "execution_count": 69,
     "metadata": {},
     "output_type": "execute_result"
    }
   ],
   "source": [
    "X[:5], y[:5]"
   ]
  },
  {
   "cell_type": "markdown",
   "id": "50d91935",
   "metadata": {},
   "source": [
    "## 2) 전체 데이터를 훈련 세트와 테스트 세트로 분리하시오. 이 때 비율은 75 : 25 로 합니다.\n",
    "\n",
    "(단, random_state = 0 으로 설정)"
   ]
  },
  {
   "cell_type": "code",
   "execution_count": 70,
   "id": "9baa751b",
   "metadata": {},
   "outputs": [
    {
     "data": {
      "text/plain": [
       "(5, 5)"
      ]
     },
     "execution_count": 70,
     "metadata": {},
     "output_type": "execute_result"
    }
   ],
   "source": [
    "from sklearn.model_selection import train_test_split\n",
    "\n",
    "X_train, X_test, y_train, y_test = train_test_split(X, y, test_size=0.25, random_state=0)\n",
    "\n",
    "X_train[:5], X_test[:5]\n",
    "\n",
    "len(X_test), len(y_test)"
   ]
  },
  {
   "cell_type": "markdown",
   "id": "6a37e520",
   "metadata": {},
   "source": [
    "## 3) 훈련 세트를 이용하여 단순 선형 회귀 (Simple Linear Regression) 모델을 생성하시오."
   ]
  },
  {
   "cell_type": "code",
   "execution_count": 74,
   "id": "6d03771e",
   "metadata": {},
   "outputs": [],
   "source": [
    "from sklearn.linear_model import LinearRegression\n",
    "\n",
    "lr = LinearRegression()\n",
    "lr.fit(X_train, y_train)\n",
    "\n",
    "# train\n",
    "y_pred1 = lr.predict(X_train)"
   ]
  },
  {
   "cell_type": "markdown",
   "id": "d8cf54dd",
   "metadata": {},
   "source": [
    "## 4) 데이터 시각화 (훈련 세트) 코드를 작성하시오."
   ]
  },
  {
   "cell_type": "code",
   "execution_count": 76,
   "id": "8be1486e",
   "metadata": {},
   "outputs": [
    {
     "data": {
      "image/png": "[encoded data removed]",
      "text/plain": [
       "<Figure size 432x288 with 1 Axes>"
      ]
     },
     "metadata": {
      "needs_background": "light"
     },
     "output_type": "display_data"
    }
   ],
   "source": [
    "plt.scatter(X_train, y_train, color='blue')\n",
    "plt.plot(X_train ,y_pred1, color='green')\n",
    "\n",
    "plt.title('Wedding reception')\n",
    "plt.xlabel('total')\n",
    "plt.ylabel('reception')\n",
    "\n",
    "plt.show()"
   ]
  },
  {
   "cell_type": "markdown",
   "id": "ecb19f49",
   "metadata": {},
   "source": [
    "## 5) 데이터 시각화 (테스트 세트) 코드를 작성하시오."
   ]
  },
  {
   "cell_type": "code",
   "execution_count": 77,
   "id": "53f293a0",
   "metadata": {
    "scrolled": true
   },
   "outputs": [
    {
     "data": {
      "image/png": "[encoded data removed]",
      "text/plain": [
       "<Figure size 432x288 with 1 Axes>"
      ]
     },
     "metadata": {
      "needs_background": "light"
     },
     "output_type": "display_data"
    }
   ],
   "source": [
    "y_pred2 = lr.predict(X_test)\n",
    "\n",
    "plt.scatter(X_test, y_test, color='blue')\n",
    "plt.plot(X_test, y_pred2, color='green')\n",
    "\n",
    "plt.xlabel('total')\n",
    "plt.ylabel('reception')\n",
    "plt.title('Wedding reception(test)')\n",
    "\n",
    "plt.show()"
   ]
  },
  {
   "cell_type": "markdown",
   "id": "f04a00f9",
   "metadata": {},
   "source": [
    "## 6) 훈련 세트, 테스트 세트에 대해 각각 모델 평가 점수를 구하시오."
   ]
  },
  {
   "cell_type": "code",
   "execution_count": 78,
   "id": "439d0ce7",
   "metadata": {},
   "outputs": [
    {
     "data": {
      "text/plain": [
       "0.8707088403321211"
      ]
     },
     "execution_count": 78,
     "metadata": {},
     "output_type": "execute_result"
    }
   ],
   "source": [
    "lr.score(X_train, y_train)"
   ]
  },
  {
   "cell_type": "code",
   "execution_count": 79,
   "id": "951830c2",
   "metadata": {},
   "outputs": [
    {
     "data": {
      "text/plain": [
       "0.8634953212566615"
      ]
     },
     "execution_count": 79,
     "metadata": {},
     "output_type": "execute_result"
    }
   ],
   "source": [
    "lr.score(X_test, y_test)"
   ]
  },
  {
   "cell_type": "markdown",
   "id": "ce329367",
   "metadata": {},
   "source": [
    "## 7) 결혼식 참석 인원이 300명일 때 예상되는 식수 인원을 구하시오."
   ]
  },
  {
   "cell_type": "code",
   "execution_count": 84,
   "id": "4b9b1f54",
   "metadata": {
    "scrolled": true
   },
   "outputs": [
    {
     "name": "stdout",
     "output_type": "stream",
     "text": [
      "ans = 176\n"
     ]
    }
   ],
   "source": [
    "ans = lr.predict([[300]])\n",
    "\n",
    "print(f'ans = {int(ans)}')"
   ]
  },
  {
   "cell_type": "code",
   "execution_count": 46,
   "id": "6ccff5e4",
   "metadata": {},
   "outputs": [
    {
     "ename": "NameError",
     "evalue": "name 'reg' is not defined",
     "output_type": "error",
     "traceback": [
      "\u001b[0;31m---------------------------------------------------------------------------\u001b[0m",
      "\u001b[0;31mNameError\u001b[0m                                 Traceback (most recent call last)",
      "Input \u001b[0;32mIn [46]\u001b[0m, in \u001b[0;36m<cell line: 2>\u001b[0;34m()\u001b[0m\n\u001b[1;32m      1\u001b[0m total \u001b[38;5;241m=\u001b[39m \u001b[38;5;241m300\u001b[39m \u001b[38;5;66;03m# 결혼식 참석 인원\u001b[39;00m\n\u001b[0;32m----> 2\u001b[0m y_pred \u001b[38;5;241m=\u001b[39m \u001b[43mreg\u001b[49m\u001b[38;5;241m.\u001b[39mpredict([[total]])\n\u001b[1;32m      4\u001b[0m \u001b[38;5;28mprint\u001b[39m(\u001b[38;5;124mf\u001b[39m\u001b[38;5;124m'\u001b[39m\u001b[38;5;124m결혼식 참석 인원 \u001b[39m\u001b[38;5;132;01m{\u001b[39;00mtotal\u001b[38;5;132;01m}\u001b[39;00m\u001b[38;5;124m 명에 대한 예상 식수 인원은 \u001b[39m\u001b[38;5;132;01m{\u001b[39;00mnp\u001b[38;5;241m.\u001b[39maround(y_pred[\u001b[38;5;241m0\u001b[39m])\u001b[38;5;241m.\u001b[39mastype(\u001b[38;5;28mint\u001b[39m)\u001b[38;5;132;01m}\u001b[39;00m\u001b[38;5;124m 명입니다.\u001b[39m\u001b[38;5;124m'\u001b[39m)\n",
      "\u001b[0;31mNameError\u001b[0m: name 'reg' is not defined"
     ]
    }
   ],
   "source": []
  },
  {
   "cell_type": "code",
   "execution_count": null,
   "id": "9aaa5757",
   "metadata": {},
   "outputs": [],
   "source": []
  }
 ],
 "metadata": {
  "kernelspec": {
   "display_name": "Python 3 (ipykernel)",
   "language": "python",
   "name": "python3"
  },
  "language_info": {
   "codemirror_mode": {
    "name": "ipython",
    "version": 3
   },
   "file_extension": ".py",
   "mimetype": "text/x-python",
   "name": "python",
   "nbconvert_exporter": "python",
   "pygments_lexer": "ipython3",
   "version": "3.9.12"
  }
 },
 "nbformat": 4,
 "nbformat_minor": 5
}
