{
 "cells": [
  {
   "cell_type": "markdown",
   "id": "8f4111d5",
   "metadata": {},
   "source": [
    "# 복습 및 정리내용\n",
    "\n",
    "> - 1. ColumnTransformer\n",
    "> - 2. One Hot Encoding\n",
    "> - 3. 다중 선형 회귀\n",
    "> - 4. 다양한 평가지(회귀 모델)\n"
   ]
  },
  {
   "cell_type": "markdown",
   "id": "0575497b",
   "metadata": {},
   "source": [
    "### 1. ColumnTransformer\n"
   ]
  },
  {
   "cell_type": "markdown",
   "id": "38725d68",
   "metadata": {},
   "source": [
    "\n",
    "# def;Class that allows combining the outputs of multiple transformer objects used on column subsets of the data into a single feature space.\n",
    "\n",
    "<br>\n",
    "<br>\n",
    "\n",
    "> - shorthand for the ColumnTransformer constructor <br>\n",
    "> - does not require and does not permit, naming the transfomers <br>\n",
    "> - does not allow weighting with transformer_weights <br>\n",
    "\n",
    "<br>\n",
    "<br>\n",
    "\n",
    "### parameters\n",
    "> 1. transformers : list of tuples <br>\n",
    "> - name : str \n",
    "> - transformer : {‘drop’, ‘passthrough’} or estimator <br>\n",
    "> - columns : str, array-like of str, int, array-like of int, slice, array-like of bool or callable<br>\n",
    "> 2. remainder : {‘drop’, ‘passthrough’} or estimator, default=’drop’<br>\n",
    "> 3. sparse_threshold : float, default=0.3<br>\n",
    "> 4. n_jobs : int, default=None<br>\n",
    "> 5. transformer_weights : dict, default=None\n",
    "> 6. verbose : bool, default=False<br>\n",
    "> 7. verbose_feature_names_out : bool, default=True<br>\n",
    "> Returns a ColumnTransformer object.\n",
    "\n",
    "<br>\n",
    "<br>\n",
    "\n",
    "### attributes\n",
    "> 1. transformers_ : list<br>\n",
    "> 2. sparse_output_ : bool<br>\n",
    "> 3. output_indices_ : dict<br>\n",
    "> 4. n_features_in_ : int<br>"
   ]
  },
  {
   "cell_type": "code",
   "execution_count": 36,
   "id": "989e5c57",
   "metadata": {},
   "outputs": [
    {
     "name": "stdout",
     "output_type": "stream",
     "text": [
      "[[0. 1. 2. 2.]\n",
      " [1. 1. 0. 1.]]\n"
     ]
    }
   ],
   "source": [
    "'''\n",
    "https://scikit-learn.org/stable/modules/generated/sklearn.compose.ColumnTransformer.html#sklearn.compose.ColumnTransformer\n",
    "'''\n",
    "\n",
    "import numpy as np\n",
    "from sklearn.compose import ColumnTransformer\n",
    "# Normalizer 추가공부\n",
    "from sklearn.preprocessing import Normalizer\n",
    "\n",
    "\n",
    "# slice(); 슬라이싱을 함수형태로 표현한것\n",
    "# ct = ColumnTransformer([(\"norm1\", Normalizer(norm='l1'), [0, 1]),\n",
    "#                        (\"norm2\", Normalizer(norm='l1'), slice(2, 4))])\n",
    "\n",
    "ct = ColumnTransformer([(\"norm1\", Normalizer(norm='l1'), [0, 1]),\n",
    "                       (\"norm2\", Normalizer(norm='l1'), slice(2, 4))])\n",
    "\n",
    "X = np.array([[0., 1., 2., 2.],\n",
    "             [1., 1., 0., 1.,]])\n",
    "print(X)\n",
    "\n"
   ]
  },
  {
   "cell_type": "code",
   "execution_count": 37,
   "id": "626089d2",
   "metadata": {},
   "outputs": [
    {
     "data": {
      "text/plain": [
       "array([[0. , 1. , 0.5, 0.5],\n",
       "       [0.5, 0.5, 0. , 1. ]])"
      ]
     },
     "execution_count": 37,
     "metadata": {},
     "output_type": "execute_result"
    }
   ],
   "source": [
    "ct.fit_transform(X)"
   ]
  },
  {
   "cell_type": "code",
   "execution_count": 4,
   "id": "6a46006b",
   "metadata": {},
   "outputs": [
    {
     "data": {
      "text/plain": [
       "[('norm1', Normalizer(norm='l1'), [0, 1]),\n",
       " ('norm2', Normalizer(norm='l1'), slice(2, 4, None))]"
      ]
     },
     "execution_count": 4,
     "metadata": {},
     "output_type": "execute_result"
    }
   ],
   "source": [
    "ct.transformers_"
   ]
  },
  {
   "cell_type": "code",
   "execution_count": 5,
   "id": "83a07c25",
   "metadata": {},
   "outputs": [
    {
     "data": {
      "text/plain": [
       "False"
      ]
     },
     "execution_count": 5,
     "metadata": {},
     "output_type": "execute_result"
    }
   ],
   "source": [
    "ct.sparse_output_"
   ]
  },
  {
   "cell_type": "code",
   "execution_count": 6,
   "id": "48f3b206",
   "metadata": {},
   "outputs": [
    {
     "data": {
      "text/plain": [
       "{'norm1': slice(0, 2, None),\n",
       " 'norm2': slice(2, 4, None),\n",
       " 'remainder': slice(0, 0, None)}"
      ]
     },
     "execution_count": 6,
     "metadata": {},
     "output_type": "execute_result"
    }
   ],
   "source": [
    "ct.output_indices_"
   ]
  },
  {
   "cell_type": "code",
   "execution_count": 7,
   "id": "0f3c5d8b",
   "metadata": {},
   "outputs": [
    {
     "data": {
      "text/plain": [
       "4"
      ]
     },
     "execution_count": 7,
     "metadata": {},
     "output_type": "execute_result"
    }
   ],
   "source": [
    "ct.n_features_in_"
   ]
  },
  {
   "cell_type": "markdown",
   "id": "fd1a59cf",
   "metadata": {},
   "source": [
    "- 등장 배경; 변수가 많을수록 전처리의 방법은 다양해지고, 이를 작업하기 위해서 원본 데이터셋을 \n",
    "  자르거나 합치거나 등의 작업을 여러 cell에서 수행하는 것은 까다로움\n",
    "  <br>\n",
    "  \n",
    "- 사용법; 튜플을 인수로 받으며, 각 튜플마다 다양한 인코딩 노말라이징의 방법을 적용하고 싶은 col들과 같이 써줌"
   ]
  },
  {
   "cell_type": "markdown",
   "id": "4ade77f5",
   "metadata": {},
   "source": [
    "# One Hot Encoding"
   ]
  },
  {
   "cell_type": "code",
   "execution_count": null,
   "id": "337a7acf",
   "metadata": {},
   "outputs": [],
   "source": [
    "class sklearn.preprocessing.OneHotEncoder(*, categories='auto', drop=None, sparse=True, dtype=<class 'numpy.float64'>, handle_unknown='error', min_frequency=None, max_categories=None)"
   ]
  }
 ],
 "metadata": {
  "kernelspec": {
   "display_name": "Python 3 (ipykernel)",
   "language": "python",
   "name": "python3"
  },
  "language_info": {
   "codemirror_mode": {
    "name": "ipython",
    "version": 3
   },
   "file_extension": ".py",
   "mimetype": "text/x-python",
   "name": "python",
   "nbconvert_exporter": "python",
   "pygments_lexer": "ipython3",
   "version": "3.9.12"
  }
 },
 "nbformat": 4,
 "nbformat_minor": 5
}
